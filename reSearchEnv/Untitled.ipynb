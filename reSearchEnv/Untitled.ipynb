{
 "cells": [
  {
   "cell_type": "code",
   "execution_count": 4,
   "id": "d3c04758",
   "metadata": {},
   "outputs": [],
   "source": [
    "!conda activate ../env"
   ]
  },
  {
   "cell_type": "code",
   "execution_count": 12,
   "id": "5fcce205",
   "metadata": {},
   "outputs": [],
   "source": [
    "import cv2\n",
    "import os\n",
    "import uuid\n",
    "import time"
   ]
  },
  {
   "cell_type": "code",
   "execution_count": 6,
   "id": "821dd801",
   "metadata": {},
   "outputs": [
    {
     "data": {
      "text/plain": [
       "UUID('c05b9d5c-0cb8-11ed-8e62-002b67c60cdd')"
      ]
     },
     "execution_count": 6,
     "metadata": {},
     "output_type": "execute_result"
    }
   ],
   "source": [
    "uuid.uuid1()"
   ]
  },
  {
   "cell_type": "code",
   "execution_count": 7,
   "id": "07267c5a",
   "metadata": {},
   "outputs": [
    {
     "data": {
      "text/plain": [
       "UUID('c13d7070-0cb8-11ed-b05e-002b67c60cdd')"
      ]
     },
     "execution_count": 7,
     "metadata": {},
     "output_type": "execute_result"
    }
   ],
   "source": [
    "uuid.uuid1()"
   ]
  },
  {
   "cell_type": "code",
   "execution_count": 15,
   "id": "6ceaba5d",
   "metadata": {},
   "outputs": [
    {
     "name": "stdout",
     "output_type": "stream",
     "text": [
      "capturing img for Hi\n",
      "capturing img for Love\n",
      "capturing img for Yes\n"
     ]
    }
   ],
   "source": [
    "imgFolder = \"Test\"\n",
    "# os.mkdir(ipath)\n",
    "labels = ['Hi', \"Love\", 'Yes']\n",
    "no_of_img = 5\n",
    "\n",
    "for lable in labels:\n",
    "    imgpath = os.path.join(imgFolder, lable)\n",
    "    os.makedirs(imgpath, exist_ok=True)\n",
    "    vid = cv2.VideoCapture(0)\n",
    "    print(f'capturing img for {lable}')\n",
    "    time.sleep(5)\n",
    "    for img_num in range(no_of_img):\n",
    "        \n",
    "        imagename=os.path.join(imgpath,lable+'.'+'{}.jpg'.format(str(uuid.uuid1())))\n",
    "        ret, frame = vid.read()\n",
    "        cv2.imshow('frama', frame)\n",
    "        cv2.imwrite(imagename, frame)\n",
    "        time.sleep(2)\n",
    "        if cv2.waitKey(1) & 0xFF==ord(\"q\"):\n",
    "            break\n",
    "vid.release()\n",
    "cv2.destroyAllWindows()"
   ]
  },
  {
   "cell_type": "code",
   "execution_count": 24,
   "id": "1d9a44da",
   "metadata": {},
   "outputs": [
    {
     "name": "stdout",
     "output_type": "stream",
     "text": [
      "Collecting images for Hello\n",
      "Collecting images for Yes\n",
      "Collecting images for No\n",
      "Collecting images for Thanks\n",
      "Collecting images for IloveYou\n",
      "Collecting images for Please\n"
     ]
    }
   ],
   "source": [
    "# import os\n",
    "# import cv2\n",
    "# import time\n",
    "# import uuid\n",
    "\n",
    "# IMAGE_PATH='CollectedImages'\n",
    "\n",
    "# labels=['Hello','Yes','No','Thanks','IloveYou','Please']\n",
    "\n",
    "# number_of_images=20\n",
    "\n",
    "# for label in labels:\n",
    "#     img_path = os.path.join(IMAGE_PATH, label)\n",
    "#     os.makedirs(img_path)\n",
    "#     cap=cv2.VideoCapture(0)\n",
    "#     print('Collecting images for {}'.format(label))\n",
    "#     time.sleep(5)\n",
    "#     for imgnum in range(number_of_images):\n",
    "#         ret,frame=cap.read()\n",
    "#         imagename=os.path.join(IMAGE_PATH,label,label+'.'+'{}.jpg'.format(str(uuid.uuid1())))\n",
    "#         cv2.imwrite(imagename,frame)\n",
    "#         cv2.imshow('frame',frame)\n",
    "#         time.sleep(2)\n",
    "        \n",
    "#         if cv2.waitKey(1) & 0xFF==ord('q'):\n",
    "#             break\n",
    "#     cap.release()"
   ]
  },
  {
   "cell_type": "code",
   "execution_count": null,
   "id": "ebd99a77",
   "metadata": {},
   "outputs": [],
   "source": []
  }
 ],
 "metadata": {
  "kernelspec": {
   "display_name": "Python 3",
   "language": "python",
   "name": "python3"
  },
  "language_info": {
   "codemirror_mode": {
    "name": "ipython",
    "version": 3
   },
   "file_extension": ".py",
   "mimetype": "text/x-python",
   "name": "python",
   "nbconvert_exporter": "python",
   "pygments_lexer": "ipython3",
   "version": "3.7.13"
  }
 },
 "nbformat": 4,
 "nbformat_minor": 5
}
